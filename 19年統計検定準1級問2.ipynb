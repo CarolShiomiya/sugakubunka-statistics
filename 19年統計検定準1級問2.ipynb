{
 "cells": [
  {
   "cell_type": "code",
   "execution_count": 72,
   "metadata": {},
   "outputs": [],
   "source": [
    "#binderオブジェクト。\n",
    "#totallistはお菓子に入っているカード一覧をリストにしたもの、cardsは買い始める時にすでに持っているカード。\n",
    "import random\n",
    "class Binder:\n",
    "    def __init__(self,totallist,cards):\n",
    "        self.totallist = totallist\n",
    "        self.cards=cards\n",
    "        \n",
    "    def buy(self): #buy メソッドで、カードを1枚ランダムに追加\n",
    "        self.cards.append(random.choice(totallist))\n",
    "        #print(self.cards)\n",
    "    \n",
    "    def check(self): #checkメソッドは、カードが揃っているかどうかを真偽値で返す\n",
    "        return(set(self.totallist)==set(self.cards))"
   ]
  },
  {
   "cell_type": "code",
   "execution_count": 84,
   "metadata": {},
   "outputs": [
    {
     "name": "stdout",
     "output_type": "stream",
     "text": [
      "['a']\n",
      "['a', 'c']\n",
      "['a', 'c', 'a']\n",
      "['a', 'c', 'a', 'b']\n",
      "['a', 'c', 'a', 'b', 'c']\n",
      "True\n"
     ]
    }
   ],
   "source": [
    "binder=Binder([\"a\",\"b\",\"c\"],[])\n",
    "binder.buy()\n",
    "print(binder.cards)\n",
    "binder.buy()\n",
    "print(binder.cards)\n",
    "binder.buy()\n",
    "print(binder.cards)\n",
    "binder.buy()\n",
    "print(binder.cards)\n",
    "binder.buy()\n",
    "print(binder.cards)\n",
    "print(binder.check())"
   ]
  },
  {
   "cell_type": "code",
   "execution_count": 69,
   "metadata": {},
   "outputs": [],
   "source": [
    "#binderオブジェクトを入力すると、コンプリートするまでカードを買い、買った枚数を出力する関数buy_till_comp。\n",
    "def buy_till_comp(binder):\n",
    "    while(binder.check()==False):\n",
    "        binder.buy()\n",
    "        \n",
    "    return(len(binder.cards))"
   ]
  },
  {
   "cell_type": "code",
   "execution_count": 70,
   "metadata": {},
   "outputs": [
    {
     "name": "stdout",
     "output_type": "stream",
     "text": [
      "['a']\n",
      "['a', 'a']\n",
      "['a', 'a', 'c']\n",
      "['a', 'a', 'c', 'a']\n",
      "['a', 'a', 'c', 'a', 'c']\n",
      "['a', 'a', 'c', 'a', 'c', 'b']\n"
     ]
    },
    {
     "data": {
      "text/plain": [
       "6"
      ]
     },
     "execution_count": 70,
     "metadata": {},
     "output_type": "execute_result"
    }
   ],
   "source": [
    "binder=Binder([\"a\",\"b\",\"c\"],[])\n",
    "buy_till_comp(binder)"
   ]
  },
  {
   "cell_type": "code",
   "execution_count": 73,
   "metadata": {},
   "outputs": [],
   "source": [
    "#「カードを1枚も持っていない状態からコンプリートするまでにかかる回数」を記録する。試行回数は100回。\n",
    "comp_ni_kakatta_kaisu=[]\n",
    "\n",
    "for i in range(100):\n",
    "    binder=Binder([\"a\",\"b\",\"c\"],[])\n",
    "    comp_ni_kakatta_kaisu.append(buy_till_comp(binder))"
   ]
  },
  {
   "cell_type": "code",
   "execution_count": 77,
   "metadata": {},
   "outputs": [
    {
     "data": {
      "text/plain": [
       "5.47"
      ]
     },
     "execution_count": 77,
     "metadata": {},
     "output_type": "execute_result"
    }
   ],
   "source": [
    "#期待値の推定量として、平均回数を求める。\n",
    "from statistics import mean, median,variance,stdev\n",
    "mean(comp_ni_kakatta_kaisu)"
   ]
  }
 ],
 "metadata": {
  "kernelspec": {
   "display_name": "Python 3",
   "language": "python",
   "name": "python3"
  },
  "language_info": {
   "codemirror_mode": {
    "name": "ipython",
    "version": 3
   },
   "file_extension": ".py",
   "mimetype": "text/x-python",
   "name": "python",
   "nbconvert_exporter": "python",
   "pygments_lexer": "ipython3",
   "version": "3.6.7"
  }
 },
 "nbformat": 4,
 "nbformat_minor": 2
}
